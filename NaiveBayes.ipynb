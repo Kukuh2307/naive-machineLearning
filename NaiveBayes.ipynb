{
 "cells": [
  {
   "cell_type": "markdown",
   "metadata": {},
   "source": [
    "Import Library dan baca dataset"
   ]
  },
  {
   "cell_type": "code",
   "execution_count": 8,
   "metadata": {},
   "outputs": [],
   "source": [
    "import pandas as pd\n",
    "from sklearn.model_selection import train_test_split\n",
    "from sklearn.naive_bayes import GaussianNB\n",
    "from sklearn import metrics\n",
    "import pickle"
   ]
  },
  {
   "cell_type": "code",
   "execution_count": 9,
   "metadata": {},
   "outputs": [
    {
     "name": "stdout",
     "output_type": "stream",
     "text": [
      "<class 'pandas.core.frame.DataFrame'>\n",
      "RangeIndex: 303 entries, 0 to 302\n",
      "Data columns (total 14 columns):\n",
      " #   Column    Non-Null Count  Dtype  \n",
      "---  ------    --------------  -----  \n",
      " 0   age       303 non-null    int64  \n",
      " 1   sex       303 non-null    int64  \n",
      " 2   cp        303 non-null    int64  \n",
      " 3   trtbps    303 non-null    int64  \n",
      " 4   chol      303 non-null    int64  \n",
      " 5   fbs       303 non-null    int64  \n",
      " 6   restecg   303 non-null    int64  \n",
      " 7   thalachh  303 non-null    int64  \n",
      " 8   exng      303 non-null    int64  \n",
      " 9   oldpeak   303 non-null    float64\n",
      " 10  slp       303 non-null    int64  \n",
      " 11  caa       303 non-null    int64  \n",
      " 12  thall     303 non-null    int64  \n",
      " 13  output    303 non-null    int64  \n",
      "dtypes: float64(1), int64(13)\n",
      "memory usage: 33.3 KB\n"
     ]
    }
   ],
   "source": [
    "# Specify the correct encoding (e.g., 'latin1' or 'ISO-8859-1')\n",
    "df = pd.read_csv('heart.csv', encoding='latin1')\n",
    "\n",
    "df.info()"
   ]
  },
  {
   "cell_type": "markdown",
   "metadata": {},
   "source": [
    "Memisahkan X dan Y"
   ]
  },
  {
   "cell_type": "code",
   "execution_count": 10,
   "metadata": {},
   "outputs": [],
   "source": [
    "x = df.iloc[:,0:13]\n",
    "y = df.iloc[:,13]"
   ]
  },
  {
   "cell_type": "markdown",
   "metadata": {},
   "source": [
    "Membagi data train dan test,buat objek dan latih model"
   ]
  },
  {
   "cell_type": "code",
   "execution_count": 11,
   "metadata": {},
   "outputs": [
    {
     "name": "stdout",
     "output_type": "stream",
     "text": [
      "Accuracy: 0.8524590163934426\n"
     ]
    }
   ],
   "source": [
    "x_train, x_test, y_train, y_test = train_test_split(x, y, test_size=0.2, random_state=0)\n",
    "\n",
    "gnb = GaussianNB()\n",
    "\n",
    "gnb.fit(x_train, y_train)\n",
    "\n",
    "# Simpan model menggunakan pickle\n",
    "with open('naive_bayes_model.pkl', 'wb') as model_file:\n",
    "    pickle.dump(gnb, model_file)\n",
    "\n",
    "y_pred = gnb.predict(x_test)\n",
    "\n",
    "# Evaluasi model\n",
    "print(\"Accuracy:\", metrics.accuracy_score(y_test, y_pred))"
   ]
  },
  {
   "cell_type": "markdown",
   "metadata": {},
   "source": [
    "Mengambil data testing"
   ]
  },
  {
   "cell_type": "code",
   "execution_count": 12,
   "metadata": {},
   "outputs": [
    {
     "name": "stdout",
     "output_type": "stream",
     "text": [
      "<class 'pandas.core.frame.DataFrame'>\n",
      "RangeIndex: 15 entries, 0 to 14\n",
      "Data columns (total 13 columns):\n",
      " #   Column    Non-Null Count  Dtype  \n",
      "---  ------    --------------  -----  \n",
      " 0   age       15 non-null     int64  \n",
      " 1   sex       15 non-null     int64  \n",
      " 2   cp        15 non-null     int64  \n",
      " 3   trtbps    15 non-null     int64  \n",
      " 4   chol      15 non-null     int64  \n",
      " 5   fbs       15 non-null     int64  \n",
      " 6   restecg   15 non-null     int64  \n",
      " 7   thalachh  15 non-null     int64  \n",
      " 8   exng      15 non-null     int64  \n",
      " 9   oldpeak   15 non-null     float64\n",
      " 10  slp       15 non-null     int64  \n",
      " 11  caa       15 non-null     int64  \n",
      " 12  thall     15 non-null     int64  \n",
      "dtypes: float64(1), int64(12)\n",
      "memory usage: 1.6 KB\n"
     ]
    }
   ],
   "source": [
    "df_testing = pd.read_csv('testing.csv')\n",
    "df_testing.info()"
   ]
  },
  {
   "cell_type": "markdown",
   "metadata": {},
   "source": [
    "Menambahkan 1 kolom untuk output"
   ]
  },
  {
   "cell_type": "code",
   "execution_count": 13,
   "metadata": {},
   "outputs": [
    {
     "name": "stdout",
     "output_type": "stream",
     "text": [
      "<class 'pandas.core.frame.DataFrame'>\n",
      "RangeIndex: 15 entries, 0 to 14\n",
      "Data columns (total 14 columns):\n",
      " #   Column    Non-Null Count  Dtype  \n",
      "---  ------    --------------  -----  \n",
      " 0   age       15 non-null     int64  \n",
      " 1   sex       15 non-null     int64  \n",
      " 2   cp        15 non-null     int64  \n",
      " 3   trtbps    15 non-null     int64  \n",
      " 4   chol      15 non-null     int64  \n",
      " 5   fbs       15 non-null     int64  \n",
      " 6   restecg   15 non-null     int64  \n",
      " 7   thalachh  15 non-null     int64  \n",
      " 8   exng      15 non-null     int64  \n",
      " 9   oldpeak   15 non-null     float64\n",
      " 10  slp       15 non-null     int64  \n",
      " 11  caa       15 non-null     int64  \n",
      " 12  thall     15 non-null     int64  \n",
      " 13  output    15 non-null     int64  \n",
      "dtypes: float64(1), int64(13)\n",
      "memory usage: 1.8 KB\n"
     ]
    }
   ],
   "source": [
    "df_testing['output'] = 0\n",
    "df_testing.info()"
   ]
  },
  {
   "cell_type": "markdown",
   "metadata": {},
   "source": [
    "Melakukan prediksi dari model"
   ]
  },
  {
   "cell_type": "code",
   "execution_count": 14,
   "metadata": {},
   "outputs": [
    {
     "name": "stdout",
     "output_type": "stream",
     "text": [
      "Data ke-1 adalah terindikasi\n",
      "Data ke-2 adalah tidak terindikasi\n",
      "Data ke-3 adalah terindikasi\n",
      "Data ke-4 adalah terindikasi\n",
      "Data ke-5 adalah terindikasi\n",
      "Data ke-6 adalah terindikasi\n",
      "Data ke-7 adalah tidak terindikasi\n",
      "Data ke-8 adalah terindikasi\n",
      "Data ke-9 adalah tidak terindikasi\n",
      "Data ke-10 adalah terindikasi\n",
      "Data ke-11 adalah terindikasi\n",
      "Data ke-12 adalah terindikasi\n",
      "Data ke-13 adalah terindikasi\n",
      "Data ke-14 adalah terindikasi\n",
      "Data ke-15 adalah terindikasi\n"
     ]
    }
   ],
   "source": [
    "y_pred_testing = gnb.predict(df_testing.iloc[:, 0:13])\n",
    "\n",
    "df_testing['output'] = y_pred_testing\n",
    "\n",
    "for i, row in df_testing.iterrows():\n",
    "    if row['output'] == 1:\n",
    "        print(f\"Data ke-{i+1} adalah terindikasi\")\n",
    "    else:\n",
    "        print(f\"Data ke-{i+1} adalah tidak terindikasi\")"
   ]
  }
 ],
 "metadata": {
  "kernelspec": {
   "display_name": "Python 3",
   "language": "python",
   "name": "python3"
  },
  "language_info": {
   "codemirror_mode": {
    "name": "ipython",
    "version": 3
   },
   "file_extension": ".py",
   "mimetype": "text/x-python",
   "name": "python",
   "nbconvert_exporter": "python",
   "pygments_lexer": "ipython3",
   "version": "3.8.10"
  },
  "orig_nbformat": 4
 },
 "nbformat": 4,
 "nbformat_minor": 2
}
