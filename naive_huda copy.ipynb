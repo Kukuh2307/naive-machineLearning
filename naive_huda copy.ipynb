{
 "cells": [
  {
   "cell_type": "code",
   "execution_count": 3,
   "metadata": {},
   "outputs": [],
   "source": [
    "import pandas as pd"
   ]
  },
  {
   "cell_type": "code",
   "execution_count": 4,
   "metadata": {},
   "outputs": [],
   "source": [
    "df = pd.read_csv('heart.csv')"
   ]
  },
  {
   "cell_type": "code",
   "execution_count": 5,
   "metadata": {},
   "outputs": [
    {
     "data": {
      "text/plain": [
       "array([1, 0])"
      ]
     },
     "execution_count": 5,
     "metadata": {},
     "output_type": "execute_result"
    }
   ],
   "source": [
    "pd.unique(df['output'])"
   ]
  },
  {
   "cell_type": "code",
   "execution_count": 6,
   "metadata": {},
   "outputs": [],
   "source": [
    "x= df.iloc[:,0:-1].values\n",
    "y= df.iloc[:,[-1]].values"
   ]
  },
  {
   "cell_type": "code",
   "execution_count": 7,
   "metadata": {},
   "outputs": [],
   "source": [
    "y = y.reshape(len(y),)"
   ]
  },
  {
   "cell_type": "code",
   "execution_count": 8,
   "metadata": {},
   "outputs": [],
   "source": [
    "from sklearn.model_selection import train_test_split\n",
    "x_train, x_test, y_train, y_test = train_test_split(x, y, test_size=0.2, random_state=99)"
   ]
  },
  {
   "cell_type": "code",
   "execution_count": 9,
   "metadata": {},
   "outputs": [],
   "source": [
    "from sklearn.naive_bayes import GaussianNB\n",
    "model = GaussianNB()\n",
    "model.fit(x_train, y_train);"
   ]
  },
  {
   "cell_type": "code",
   "execution_count": 10,
   "metadata": {},
   "outputs": [
    {
     "data": {
      "text/plain": [
       "array([1, 0, 1, 1, 1, 1, 1, 1, 0, 1, 0, 1, 0, 1, 1, 1, 1, 1, 0, 0, 1, 1,\n",
       "       0, 1, 0, 0, 1, 1, 1, 0, 0, 0, 1, 0, 0, 1, 0, 0, 1, 1, 0, 1, 1, 0,\n",
       "       1, 1, 1, 1, 1, 0, 1, 1, 1, 0, 1, 1, 0, 1, 0, 0, 1])"
      ]
     },
     "execution_count": 10,
     "metadata": {},
     "output_type": "execute_result"
    }
   ],
   "source": [
    "y_pred = model.predict( x_test)\n",
    "y_pred"
   ]
  },
  {
   "cell_type": "code",
   "execution_count": 11,
   "metadata": {},
   "outputs": [
    {
     "name": "stdout",
     "output_type": "stream",
     "text": [
      "Accuracy: 0.9016393442622951\n",
      "F1 Score: 0.9016393442622951\n"
     ]
    }
   ],
   "source": [
    "from sklearn.metrics import (\n",
    "    accuracy_score,\n",
    "    confusion_matrix,\n",
    "    ConfusionMatrixDisplay,\n",
    "    f1_score,\n",
    "    classification_report,\n",
    ")\n",
    "import seaborn as sb\n",
    "accuray = accuracy_score(y_pred, y_test)\n",
    "f1 = f1_score(y_pred, y_test, average=\"weighted\")\n",
    "\n",
    "print(\"Accuracy:\", accuray)\n",
    "print(\"F1 Score:\", f1)"
   ]
  },
  {
   "cell_type": "code",
   "execution_count": 12,
   "metadata": {},
   "outputs": [
    {
     "name": "stdout",
     "output_type": "stream",
     "text": [
      "              precision    recall  f1-score   support\n",
      "\n",
      "           0       0.87      0.87      0.87        23\n",
      "           1       0.92      0.92      0.92        38\n",
      "\n",
      "    accuracy                           0.90        61\n",
      "   macro avg       0.90      0.90      0.90        61\n",
      "weighted avg       0.90      0.90      0.90        61\n",
      "\n"
     ]
    },
    {
     "data": {
      "text/plain": [
       "<Axes: >"
      ]
     },
     "execution_count": 12,
     "metadata": {},
     "output_type": "execute_result"
    },
    {
     "data": {
      "image/png": "[encoded data removed]",
      "text/plain": [
       "<Figure size 640x480 with 2 Axes>"
      ]
     },
     "metadata": {},
     "output_type": "display_data"
    }
   ],
   "source": [
    "print(classification_report(y_test,y_pred))\n",
    "sb.heatmap(confusion_matrix(y_test,y_pred),annot=True)"
   ]
  },
  {
   "cell_type": "code",
   "execution_count": 14,
   "metadata": {},
   "outputs": [
    {
     "name": "stdout",
     "output_type": "stream",
     "text": [
      "Hasil Prediksi:\n",
      "\n",
      "Data Baru ke-1:[42.0, 1.0, 2.0, 145.0, 233.0, 1.0, 0.0, 168.0, 0.0, 1.6, 2.0, 0.0, 2.0] = 1\n",
      "Data Baru ke-2:[61.0, 1.0, 1.0, 130.0, 250.0, 0.0, 1.0, 169.0, 0.0, 6.2, 2.0, 4.0, 3.0] = 0\n",
      "Data Baru ke-3:[40.0, 0.0, 3.0, 130.0, 204.0, 0.0, 0.0, 159.0, 0.0, 0.0, 2.0, 1.0, 1.0] = 1\n",
      "Data Baru ke-4:[71.0, 0.0, 1.0, 105.0, 360.0, 0.0, 1.0, 138.0, 1.0, 1.2, 1.0, 0.0, 1.0] = 1\n",
      "Data Baru ke-5:[59.0, 0.0, 2.0, 120.0, 308.0, 0.0, 0.0, 111.0, 0.0, 2.6, 1.0, 0.0, 2.0] = 0\n",
      "Data Baru ke-6:[51.0, 1.0, 0.0, 130.0, 245.0, 0.0, 1.0, 157.0, 0.0, 2.0, 1.0, 0.0, 2.0] = 1\n",
      "Data Baru ke-7:[65.0, 1.0, 2.0, 125.0, 208.0, 1.0, 1.0, 147.0, 1.0, 0.0, 2.0, 3.0, 2.0] = 0\n",
      "Data Baru ke-8:[53.0, 0.0, 1.0, 125.0, 264.0, 0.0, 0.0, 162.0, 0.0, 0.4, 2.0, 1.0, 2.0] = 1\n",
      "Data Baru ke-9:[54.0, 1.0, 1.0, 142.0, 321.0, 0.0, 1.0, 173.0, 0.0, 3.6, 2.0, 3.0, 2.0] = 0\n",
      "Data Baru ke-10:[65.0, 1.0, 0.0, 135.0, 325.0, 0.0, 1.0, 178.0, 0.0, 1.2, 2.0, 2.0, 2.0] = 1\n",
      "Data Baru ke-11:[65.0, 1.0, 2.0, 150.0, 235.0, 1.0, 0.0, 145.0, 0.0, 1.0, 2.0, 0.0, 3.0] = 1\n",
      "Data Baru ke-12:[51.0, 1.0, 2.0, 155.0, 257.0, 0.0, 1.0, 179.0, 0.0, 1.2, 2.0, 2.0, 3.0] = 1\n",
      "Data Baru ke-13:[48.0, 0.0, 1.0, 160.0, 216.0, 0.0, 0.0, 194.0, 0.0, 3.0, 2.0, 0.0, 2.0] = 1\n",
      "Data Baru ke-14:[45.0, 0.0, 3.0, 140.0, 211.0, 0.0, 0.0, 163.0, 1.0, 1.2, 2.0, 0.0, 2.0] = 1\n",
      "Data Baru ke-15:[53.0, 0.0, 3.0, 130.0, 283.0, 0.0, 0.0, 115.0, 0.0, 1.8, 1.0, 0.0, 2.0] = 1\n"
     ]
    }
   ],
   "source": [
    "import warnings\n",
    "warnings.filterwarnings(\"ignore\", category=UserWarning)\n",
    "# databaru = pd.read_csv('heart.csv')\n",
    "# new_data = databaru.iloc[163:167,:-1]\n",
    "\n",
    "databaru = pd.read_csv('testing.csv')\n",
    "new_data = databaru.iloc[:,:]\n",
    "\n",
    "new_pred = model.predict(new_data)\n",
    "print(\"Hasil Prediksi:\\n\")\n",
    "for nomor, y_pred in enumerate(new_pred, start=1):\n",
    "    new_data_row = new_data.iloc[nomor-1]\n",
    "    print(f\"Data Baru ke-{nomor}:{new_data_row.tolist()} = {y_pred}\")    "
   ]
  }
 ],
 "metadata": {
  "kernelspec": {
   "display_name": "Python 3",
   "language": "python",
   "name": "python3"
  },
  "language_info": {
   "codemirror_mode": {
    "name": "ipython",
    "version": 3
   },
   "file_extension": ".py",
   "mimetype": "text/x-python",
   "name": "python",
   "nbconvert_exporter": "python",
   "pygments_lexer": "ipython3",
   "version": "3.8.10"
  }
 },
 "nbformat": 4,
 "nbformat_minor": 2
}
